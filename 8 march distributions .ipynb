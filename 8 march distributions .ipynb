{
 "cells": [
  {
   "cell_type": "markdown",
   "id": "955dd7ec-3cd7-4096-8f81-a6ec8deae240",
   "metadata": {},
   "source": [
    "Q1. What is the Probability density function?"
   ]
  },
  {
   "cell_type": "markdown",
   "id": "b8389d6d-2d18-44ba-b914-cebab37656fd",
   "metadata": {},
   "source": [
    "ANSWER : The probability density function (PDF) is a function that describes the likelihood of a random variable taking on a particular value, In other words it is disrtibution of continous data. In other words, it is a mathematical function that gives the probability of a random variable taking on a specific value within a given range of values."
   ]
  },
  {
   "cell_type": "code",
   "execution_count": null,
   "id": "f9895aab-c15a-4481-956d-bf265c08fed0",
   "metadata": {},
   "outputs": [],
   "source": []
  },
  {
   "cell_type": "markdown",
   "id": "a4aa2c9a-d2d1-4b4f-aed1-524afd314e9d",
   "metadata": {},
   "source": [
    "Q2. What are the types of Probability distribution?"
   ]
  },
  {
   "cell_type": "markdown",
   "id": "25c716bd-f213-4bdc-b848-e11eecb44c7a",
   "metadata": {},
   "source": [
    "ANSWER : There are several types of probability distributions, each with its own unique characteristics and applications in different fields. Some of the most common types of probability distributions include:\n",
    "\n",
    "Normal Distribution: Also known as the Gaussian distribution, this is a bell-shaped curve that is symmetrical around its mean. It is often used to model continuous data such as measurements of height or weight.\n",
    "\n",
    "Binomial Distribution: This distribution models the probability of a certain number of successes in a fixed number of independent trials. It is commonly used in fields such as biology, economics, and psychology.\n",
    "\n",
    "Poisson Distribution: This distribution models the probability of a certain number of events occurring in a fixed interval of time or space. It is often used to model rare events, such as accidents or natural disasters.\n",
    "\n",
    "Exponential Distribution: This distribution models the probability of the time between two consecutive events occurring. It is commonly used to model waiting times, such as the time between arrivals in a queue.\n",
    "\n",
    "Uniform Distribution: This distribution models the probability of a continuous variable taking on any value within a fixed range with equal likelihood. It is often used in simulations and computer algorithms."
   ]
  },
  {
   "cell_type": "code",
   "execution_count": null,
   "id": "7b1a60fd-dc1b-4f41-a3e4-a4ac03ac6139",
   "metadata": {},
   "outputs": [],
   "source": []
  },
  {
   "cell_type": "markdown",
   "id": "8f12ee89-3ab5-42de-aa3d-0ee7886efcc1",
   "metadata": {},
   "source": [
    "Q3. Write a Python function to calculate the probability density function of a normal distribution with\n",
    "given mean and standard deviation at a given point."
   ]
  },
  {
   "cell_type": "code",
   "execution_count": 29,
   "id": "e01a3d5f-9529-4105-98ef-29296ec0d526",
   "metadata": {},
   "outputs": [
    {
     "name": "stdout",
     "output_type": "stream",
     "text": [
      "the probability density function of normal distribution is :  0.24197072451914337\n"
     ]
    }
   ],
   "source": [
    "#ANSWER :\n",
    "import numpy as np\n",
    "from scipy.stats import norm\n",
    "\n",
    "\n",
    "def normal_dis(x, mean, std):\n",
    "    pdf=norm.pdf(x, mean, std)\n",
    "    return pdf\n",
    "\n",
    "pdf=normal_dis(1,2,1)\n",
    "print(\"the probability density function of normal distribution is : \",pdf)    "
   ]
  },
  {
   "cell_type": "code",
   "execution_count": null,
   "id": "737700b7-5c97-4879-9bbc-3d1182c3d5b0",
   "metadata": {},
   "outputs": [],
   "source": []
  },
  {
   "cell_type": "markdown",
   "id": "2b3585d1-e889-4028-bb95-b4cdf9062983",
   "metadata": {},
   "source": [
    "Q4. What are the properties of Binomial distribution? Give two examples of events where binomial\n",
    "distribution can be applied."
   ]
  },
  {
   "cell_type": "markdown",
   "id": "49d02a84-93b1-4b7e-a088-5b03738fab8c",
   "metadata": {},
   "source": [
    "ANSWER : The binomial distribution is a discrete probability distribution that models the probability of a certain number of successes in a fixed number of independent trials. The following are some of the key properties of the binomial distribution:\n",
    "\n",
    "The trials must be independent.\n",
    "The probability of success (p) must be constant for each trial.\n",
    "The number of trials (n) must be fixed.\n",
    "The random variable X, which represents the number of successes, follows a binomial distribution with parameters n and p.\n",
    "Two examples of events where the binomial distribution can be applied are:\n",
    "\n",
    "Tossing a coin: When we toss a coin, the outcome can be either a head or a tail, which can be considered as a success or a failure, respectively. If we toss the coin n times and want to know the probability of getting k heads, we can model this scenario using the binomial distribution.\n",
    "\n",
    "Manufacturing defects: In a manufacturing process, a product may be defective or non-defective, which can be considered as a success or a failure, respectively. If we manufacture n products and want to know the probability of having k defective products, we can model this scenario using the binomial distribution.\n",
    "\n",
    "In both of these examples, the outcomes of each trial are independent, the probability of success (getting a head or a non-defective product) is constant, and the number of trials is fixed. Therefore, we can apply the binomial distribution to model these events."
   ]
  },
  {
   "cell_type": "code",
   "execution_count": null,
   "id": "b1c070a8-1620-4163-b261-863d5de08ece",
   "metadata": {},
   "outputs": [],
   "source": []
  },
  {
   "cell_type": "markdown",
   "id": "2fc84248-59c7-4eb7-a493-31770781aa14",
   "metadata": {},
   "source": [
    "Q5. Generate a random sample of size 1000 from a binomial distribution with probability of success 0.4\n",
    "and plot a histogram of the results using matplotlib."
   ]
  },
  {
   "cell_type": "code",
   "execution_count": 30,
   "id": "c0e3cb06-fd0a-456d-963c-35a1d77b2698",
   "metadata": {},
   "outputs": [
    {
     "data": {
      "image/png": "[encoded data removed]",
      "text/plain": [
       "<Figure size 640x480 with 1 Axes>"
      ]
     },
     "metadata": {},
     "output_type": "display_data"
    }
   ],
   "source": [
    "#ANSWER : \n",
    "import numpy as np\n",
    "import matplotlib.pyplot as plt\n",
    "\n",
    "np.random.seed(513)\n",
    "n=1000\n",
    "p=0.4\n",
    "\n",
    "sample=np.random.binomial(n,p,size=1000)\n",
    "plt.hist(sample, bins=20, color=\"blue\",alpha=0.7)\n",
    "plt.xlabel(\"number of succes\")\n",
    "plt.ylabel(\"frequency\")\n",
    "plt.title(\"Histogram of a Binomial Distribution (n=1000, p=0.4)\")\n",
    "plt.show()"
   ]
  },
  {
   "cell_type": "code",
   "execution_count": null,
   "id": "87fd079c-5eb5-4251-87d6-9633ae333c44",
   "metadata": {},
   "outputs": [],
   "source": []
  },
  {
   "cell_type": "markdown",
   "id": "049dc845-a613-4609-a395-1aa9975c4169",
   "metadata": {},
   "source": [
    "Q6. Write a Python function to calculate the cumulative distribution function of a Poisson distribution\n",
    "with given mean at a given point."
   ]
  },
  {
   "cell_type": "code",
   "execution_count": 34,
   "id": "8f00fe8b-7f82-45e4-aa4a-8828265f9eb5",
   "metadata": {},
   "outputs": [
    {
     "name": "stdout",
     "output_type": "stream",
     "text": [
      "the cumulative distribution function of a Poisson distribution with given mean at a given point (3,2.5) is  0.6914624612740131\n"
     ]
    }
   ],
   "source": [
    "#ANSWER : \n",
    "import numpy as np\n",
    "from scipy.stats import norm\n",
    "\n",
    "def poisson_cdf(x,mean):\n",
    "    \n",
    "    cdf=norm.cdf(x,mean)\n",
    "    return cdf\n",
    "\n",
    "cdf=poisson_cdf(3,2.5)\n",
    "print(\"the cumulative distribution function of a Poisson distribution with given mean at a given point (3,2.5) is \",cdf)\n"
   ]
  },
  {
   "cell_type": "code",
   "execution_count": null,
   "id": "e7244edc-7765-4dc0-abd7-356e7d6709dc",
   "metadata": {},
   "outputs": [],
   "source": []
  },
  {
   "cell_type": "markdown",
   "id": "b6bd1926-ed61-47fe-a711-44f40468b91b",
   "metadata": {},
   "source": [
    "Q7. How Binomial distribution different from Poisson distribution?"
   ]
  },
  {
   "cell_type": "markdown",
   "id": "aa058207-1b7b-4386-ab84-43fe9e9410e4",
   "metadata": {},
   "source": [
    "ANSWER : The binomial and Poisson distributions are two important discrete probability distributions that are used to model the probability of certain events. Here are some of the main differences between the binomial and Poisson distributions:\n",
    "\n",
    "The binomial distribution is used to model the probability of a certain number of successes in a fixed number of independent trials, where the probability of success is constant for each trial. The Poisson distribution, on the other hand, is used to model the probability of a certain number of events occurring in a fixed interval of time or space, where the events occur randomly and independently.\n",
    "\n",
    "In the binomial distribution, the number of trials is fixed and finite, while in the Poisson distribution, the number of events can be any non-negative integer.\n",
    "\n",
    "The binomial distribution has two parameters: the number of trials (n) and the probability of success (p). The Poisson distribution has only one parameter: the average rate of occurrence of events (λ).\n",
    "\n",
    "The binomial distribution is discrete and has a finite range of possible values, while the Poisson distribution is also discrete but has an infinite range of possible values.\n",
    "\n",
    "The binomial distribution has a well-defined mean and variance, which are equal to np and np(1-p), respectively. The Poisson distribution also has a well-defined mean and variance, which are equal to λ.\n",
    "\n",
    "In summary, the binomial distribution is used to model the probability of a fixed number of successes in a fixed number of trials, while the Poisson distribution is used to model the probability of a certain number of events occurring in a fixed interval of time or space. The binomial distribution has two parameters and a finite range of possible values, while the Poisson distribution has one parameter and an infinite range of possible values."
   ]
  },
  {
   "cell_type": "code",
   "execution_count": null,
   "id": "22a1a434-d4b6-4f51-b25b-df0a095d3ae0",
   "metadata": {},
   "outputs": [],
   "source": []
  },
  {
   "cell_type": "markdown",
   "id": "ca14740c-77e1-46c5-b125-1f55e8a9365a",
   "metadata": {},
   "source": [
    "Q8. Generate a random sample of size 1000 from a Poisson distribution with mean 5 and calculate the\n",
    "sample mean and variance."
   ]
  },
  {
   "cell_type": "code",
   "execution_count": 45,
   "id": "76766f4d-c41e-44b9-8790-c9e31b53d4d8",
   "metadata": {},
   "outputs": [
    {
     "name": "stdout",
     "output_type": "stream",
     "text": [
      "Sample mean:  5.015\n",
      "Sample variance:  5.298073073073073\n"
     ]
    }
   ],
   "source": [
    "#ANSWER : \n",
    "import numpy as np\n",
    "\n",
    "np.random.seed()\n",
    "\n",
    "sample = np.random.poisson(5, size=1000)\n",
    "\n",
    "sample_mean = np.mean(sample)\n",
    "sample_variance = np.var(sample, ddof=1) \n",
    "print(\"Sample mean: \", sample_mean)\n",
    "print(\"Sample variance: \", sample_variance)\n"
   ]
  },
  {
   "cell_type": "code",
   "execution_count": null,
   "id": "6034290c-5048-4d1a-a17e-a844db0a611e",
   "metadata": {},
   "outputs": [],
   "source": []
  },
  {
   "cell_type": "markdown",
   "id": "70522c6b-0142-44e9-bd87-d8d694f61436",
   "metadata": {},
   "source": [
    "Q9. How mean and variance are related in Binomial distribution and Poisson distribution?"
   ]
  },
  {
   "cell_type": "markdown",
   "id": "bb6d0feb-30ec-4f67-8a86-fbf3c7b6dbfb",
   "metadata": {},
   "source": [
    "ANSWER : In the binomial distribution, the mean (μ) and variance (σ^2) are related by the formula:\n",
    "\n",
    "μ = np\n",
    "σ^2 = np(1-p) = q\n",
    "\n",
    "where n is the number of trials and p is the probability of success in each trial. This means that the variance is proportional to the product of the number of trials and the probability of failure.\n",
    "\n",
    "In the Poisson distribution, both the mean (λ) and variance (σ^2) are equal to λ. This means that the variance is equal to the mean.\n",
    "\n",
    "The relationship between the mean and variance in the binomial and Poisson distributions can be intuitively understood as follows:\n",
    "\n",
    "In the binomial distribution, the variance increases as the number of trials or the probability of failure increases. This is because as the number of trials or the probability of failure increases, the distribution becomes more spread out, which results in a larger variance.\n",
    "\n",
    "In the Poisson distribution, the variance is equal to the mean, which means that the distribution is always spread out in a similar way, regardless of the mean value. This is because the Poisson distribution assumes that the events occur independently and randomly, which results in a spread-out distribution with a mean and variance that are equal.\n",
    "\n",
    "In summary, in the binomial distribution, the variance is proportional to the product of the number of trials and the probability of failure, while in the Poisson distribution, the variance is equal to the mean."
   ]
  },
  {
   "cell_type": "code",
   "execution_count": null,
   "id": "0732aad8-44d1-42aa-919e-8490807ba557",
   "metadata": {},
   "outputs": [],
   "source": []
  },
  {
   "cell_type": "markdown",
   "id": "6398bc0d-06b0-45a9-8af8-63fcfcef19b3",
   "metadata": {},
   "source": [
    "Q10. In normal distribution with respect to mean position, where does the least frequent data appear?"
   ]
  },
  {
   "cell_type": "markdown",
   "id": "901970fc-1df8-4bbd-90fa-3fce2747a99a",
   "metadata": {},
   "source": [
    "ANSWER : In a normal distribution, the least frequent data appears in the tails of the distribution, which are the regions farthest from the mean. Specifically, the least frequent data appears at the extreme ends of the distribution, beyond a certain number of standard deviations from the mean.\n",
    "\n",
    "For example, in a standard normal distribution (with a mean of 0 and a standard deviation of 1), the least frequent data would appear beyond ±2 or ±3 standard deviations from the mean. The area under the curve beyond ±2 or ±3 standard deviations from the mean is relatively small, which means that the data in these regions are less likely to occur compared to the data closer to the mean.\n",
    "\n",
    "In general, the farther away from the mean a value is in a normal distribution, the less likely it is to occur."
   ]
  },
  {
   "cell_type": "code",
   "execution_count": null,
   "id": "fa3e334e-8802-478f-a855-3b5f321981dc",
   "metadata": {},
   "outputs": [],
   "source": []
  }
 ],
 "metadata": {
  "kernelspec": {
   "display_name": "Python 3 (ipykernel)",
   "language": "python",
   "name": "python3"
  },
  "language_info": {
   "codemirror_mode": {
    "name": "ipython",
    "version": 3
   },
   "file_extension": ".py",
   "mimetype": "text/x-python",
   "name": "python",
   "nbconvert_exporter": "python",
   "pygments_lexer": "ipython3",
   "version": "3.10.8"
  }
 },
 "nbformat": 4,
 "nbformat_minor": 5
}
